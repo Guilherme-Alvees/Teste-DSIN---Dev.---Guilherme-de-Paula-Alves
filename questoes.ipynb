{
 "cells": [
  {
   "cell_type": "code",
   "execution_count": null,
   "id": "dc685e0e-a5b0-4224-abd8-0154b54cec24",
   "metadata": {},
   "outputs": [],
   "source": [
    "#QUESTAO 1\n",
    "\n",
    "salario_hora = float(input(\"Digite o valor da hora trabalhada: \"))\n",
    "horas_por_dia = int(input(\"Digite a quantidade de horas trabalhadas por dia: \"))\n",
    "dias_trabalhados = int(input(\"Digite a quantidade de dias trabalhados no mês: \"))\n",
    "\n",
    "def calcular_salario_liquido(salario_hora, horas_por_dia, dias_trabalhados):\n",
    "    salario_bruto = salario_hora * horas_por_dia * dias_trabalhados\n",
    "    desconto = salario_bruto * 0.21\n",
    "    salario_liquido = salario_bruto - desconto\n",
    "    return salario_liquido\n",
    "\n",
    "resultado = calcular_salario_liquido(salario_hora, horas_por_dia, dias_trabalhados)\n",
    "print(\"O salário líquido é:R$\", resultado)"
   ]
  },
  {
   "cell_type": "code",
   "execution_count": 1,
   "id": "ffe09bef-8cef-4f7a-a997-33b5cc85b9d3",
   "metadata": {},
   "outputs": [],
   "source": [
    "# QUESTAO 2\n",
    "\n",
    "A = int(input(\"Digite o valor de A: \"))\n",
    "B = int(input(\"Digite o valor de B: \"))\n",
    "C = int(input(\"Digite o valor de C: \"))\n",
    "D = int(input(\"Digite o valor de D: \"))\n",
    "\n",
    "def verificar_valores(A, B, C, D):\n",
    "    num_one = C + D\n",
    "    num_two = A + B\n",
    "    if (B > C and \n",
    "        D > A and \n",
    "        num_one > num_two and\n",
    "        C > 0 and\n",
    "        D > 0 and\n",
    "        A % 2 == 0):\n",
    "        print(\"Valores aceitos\")\n",
    "    else:\n",
    "        print(\"Valores não aceitos\")\n",
    "\n",
    "verificar_valores(A, B, C, D)"
   ]
  },
  {
   "cell_type": "code",
   "execution_count": 3,
   "id": "51fe9fb4-5aa1-4783-9ae5-1466d6f4fc78",
   "metadata": {},
   "outputs": [
    {
     "name": "stdin",
     "output_type": "stream",
     "text": [
      "Digite a descrição do produto:  Camisa\n",
      "Digite a quantidade adquirida:  5\n",
      "Digite o preço unitário do produto:  50\n"
     ]
    },
    {
     "name": "stdout",
     "output_type": "stream",
     "text": [
      "\n",
      "--- Resumo da Compra ---\n",
      "Produto: Camisa\n",
      "Quantidade: 5\n",
      "Preço Unitário: R$ 50.00\n",
      "Total sem Desconto: R$ 250.00\n",
      "Desconto (5.55%): R$ 13.88\n",
      "Total a Pagar: R$ 236.12\n"
     ]
    }
   ],
   "source": [
    "# QUESTAO 3\n",
    "\n",
    "def calcular_desconto():\n",
    "    descricao = input(\"Digite a descrição do produto: \")\n",
    "    quantidade = int(input(\"Digite a quantidade adquirida: \"))\n",
    "    preco_unitario = float(input(\"Digite o preço unitário do produto: \"))\n",
    "\n",
    "    total_sem_desconto = quantidade * preco_unitario\n",
    "\n",
    "    if quantidade <= 5:\n",
    "        desconto_percentual = 5.55\n",
    "    elif quantidade > 5 and quantidade <= 10:\n",
    "        desconto_percentual = 8.0\n",
    "    else:\n",
    "        desconto_percentual = 12.5\n",
    "        \n",
    "    desconto = (total_sem_desconto * desconto_percentual) / 100\n",
    "    total_a_pagar = total_sem_desconto - desconto\n",
    "\n",
    "    print(\"\\n--- Resumo da Compra ---\")\n",
    "    print(f\"Produto: {descricao}\")\n",
    "    print(f\"Quantidade: {quantidade}\")\n",
    "    print(f\"Preço Unitário: R$ {preco_unitario:.2f}\")\n",
    "    print(f\"Total sem Desconto: R$ {total_sem_desconto:.2f}\")\n",
    "    print(f\"Desconto ({desconto_percentual}%): R$ {desconto:.2f}\")\n",
    "    print(f\"Total a Pagar: R$ {total_a_pagar:.2f}\")\n",
    "\n",
    "calcular_desconto()"
   ]
  },
  {
   "cell_type": "code",
   "execution_count": 4,
   "id": "1cbd4795-0894-4f15-b219-777682dedd05",
   "metadata": {},
   "outputs": [
    {
     "name": "stdin",
     "output_type": "stream",
     "text": [
      "Digite o valor de A:  3\n",
      "Digite o valor de B:  4\n",
      "Digite o valor de C:  5\n"
     ]
    },
    {
     "name": "stdout",
     "output_type": "stream",
     "text": [
      "O valor de X é: -0.57\n"
     ]
    }
   ],
   "source": [
    "# QUESTAO 4\n",
    "\n",
    "def calcular_x():\n",
    "    A = int(input(\"Digite o valor de A: \"))\n",
    "    B = int(input(\"Digite o valor de B: \"))\n",
    "    C = int(input(\"Digite o valor de C: \"))\n",
    "\n",
    "    if A == 0 and B == 0 and C != 1:\n",
    "        print(\"Solução impossível\")\n",
    "    else:\n",
    "        if (A + B) != 0:\n",
    "            X = (1 - C) / (A + B)\n",
    "            print(f\"O valor de X é: {X:.2f}\")\n",
    "        else:\n",
    "            if C == 1:\n",
    "                print(\"A equação é válida para qualquer valor de X (solução indeterminada).\")\n",
    "            else:\n",
    "                print(\"Solução impossível\")\n",
    "calcular_x()"
   ]
  },
  {
   "cell_type": "code",
   "execution_count": null,
   "id": "2d9c8d91-76b6-4041-9290-09f1ef1dd4c3",
   "metadata": {},
   "outputs": [],
   "source": [
    "# QUESTAO 5\n",
    "\n",
    "def validar_placa(placa):\n",
    "    if len(placa) != 7:\n",
    "        return False\n",
    "    if not all(c.isalpha() and c.isupper() for c in placa[:3]):\n",
    "        return False\n",
    "    if placa[3].isdigit() and placa[4].isdigit() and placa[5].isdigit() and placa[6].isdigit():\n",
    "        return \"Brasil\" \n",
    "    if placa[3].isdigit() and placa[4].isalpha() and placa[5].isdigit() and placa[6].isdigit():\n",
    "        return \"Mercosul\"  \n",
    "    return False\n",
    "\n",
    "def converter_placa(placa, padrao):\n",
    "    if padrao == \"Brasil\":\n",
    "        return placa[:4] + chr(ord('A') + int(placa[4])) + placa[5:]\n",
    "    elif padrao == \"Mercosul\":\n",
    "        return placa[:4] + str(ord(placa[4]) - ord('A')) + placa[5:]\n",
    "\n",
    "def main():\n",
    "    placa = input(\"Digite a placa: \").strip().upper()\n",
    "\n",
    "    padrao = validar_placa(placa)\n",
    "    if not padrao:\n",
    "        print(\"Formato inválido\")\n",
    "        return\n",
    "\n",
    "    if padrao == \"Brasil\":\n",
    "        correspondente = converter_placa(placa, \"Brasil\")\n",
    "    else:\n",
    "        correspondente = converter_placa(placa, \"Mercosul\")\n",
    "\n",
    "    print(f\"Padrão: {padrao}\")\n",
    "    print(f\"Correspondente: {correspondente}\")\n",
    "    \n",
    "main()"
   ]
  },
  {
   "cell_type": "code",
   "execution_count": 9,
   "id": "dc0cee33-3e92-4e48-8032-878f4dac35ee",
   "metadata": {},
   "outputs": [
    {
     "name": "stdin",
     "output_type": "stream",
     "text": [
      "Digite um número inteiro positivo:  12\n"
     ]
    },
    {
     "name": "stdout",
     "output_type": "stream",
     "text": [
      "\n",
      "Número: 1\n",
      "\n",
      "Número: 2\n",
      "Múltiplo de 2\n",
      "\n",
      "Número: 3\n",
      "\n",
      "Número: 4\n",
      "Múltiplo de 2\n",
      "Número primo\n",
      "\n",
      "Número: 5\n",
      "\n",
      "Número: 6\n",
      "Número perfeito\n",
      "Múltiplo de 2\n",
      "Número primo\n",
      "\n",
      "Número: 7\n",
      "Múltiplo de 7\n",
      "\n",
      "Número: 8\n",
      "Múltiplo de 2\n",
      "Número primo\n",
      "\n",
      "Número: 9\n",
      "Número primo\n",
      "\n",
      "Número: 10\n",
      "Múltiplo de 2\n",
      "Número primo\n",
      "\n",
      "Número: 11\n",
      "\n",
      "Número: 12\n",
      "Múltiplo de 2\n"
     ]
    }
   ],
   "source": [
    "# QUESTAO 6\n",
    "\n",
    "def primo(n):\n",
    "    if n <= 1:\n",
    "        return False\n",
    "    divisores = sum(1 for i in range(1, int(n**0.5) + 1) if n % i == 0)\n",
    "    return divisores == 2\n",
    "\n",
    "def perfeito(n):\n",
    "    if n < 2:\n",
    "        return False\n",
    "    soma_divisores = sum(i for i in range(1, n) if n % i == 0)\n",
    "    return soma_divisores == n\n",
    "\n",
    "def avaliar_sequencia(N):\n",
    "    for num in range(1, N + 1):\n",
    "        print(f\"\\nNúmero: {num}\")\n",
    "        if perfeito(num):\n",
    "            print(\"Número perfeito\")\n",
    "        if num % 2 == 0:\n",
    "            print(\"Múltiplo de 2\")\n",
    "        if num % 7 == 0:\n",
    "            print(\"Múltiplo de 7\")\n",
    "        if primo(num):\n",
    "            print(\"Número primo\")\n",
    "\n",
    "N = int(input(\"Digite um número inteiro positivo: \"))\n",
    "\n",
    "avaliar_sequencia(N)"
   ]
  },
  {
   "cell_type": "code",
   "execution_count": null,
   "id": "aff6b2c5-0a5c-4db1-afa4-92bc3f535e7f",
   "metadata": {},
   "outputs": [],
   "source": [
    "# QUESTAO 7\n",
    "\n"
   ]
  },
  {
   "cell_type": "code",
   "execution_count": null,
   "id": "7ce34f92-d33d-47fd-8afd-c8ba6c8f4c78",
   "metadata": {},
   "outputs": [],
   "source": [
    "# QUESTAO 8"
   ]
  },
  {
   "cell_type": "code",
   "execution_count": 10,
   "id": "0650b8d2-d7ca-4524-8c0c-a6a8db9b4cdc",
   "metadata": {},
   "outputs": [],
   "source": [
    "# QUESTAO 9\n",
    "\n",
    "SELECT CDCLICODIGO, CDCLINOME, CDCLICIDADE FROM CDCLIENTE\n",
    "WHERE CDCLIUF = 'GO' \n",
    "    AND CDCLIATIVO = 'T';"
   ]
  },
  {
   "cell_type": "raw",
   "id": "51b6d761-8623-444b-856c-c5acd7d9ea6a",
   "metadata": {},
   "source": [
    "# QUESTAO 10\n",
    "\n",
    "A) É certo dizer que o relacionamento entre da tabela LCATENDIMENTO para\n",
    "CDFUNCIONARIO, é :\n",
    "[ ] 1:0 (Um para nenhum)\n",
    "[ ] 1:N (Um para muitos)\n",
    "[X] N:1 (Muitos para um)\n",
    "[ ] M:N (Muitos para Muitos)\n",
    "[ ] 0:N (Zero a muitos)\n",
    "\n",
    "B) Assinale com X as afirmações corretas:\n",
    "[ ] Nenhum atendimento pode possuir a mesma data e hora;\n",
    "[X] Um funcionário pode atender vários clientes, sendo um cliente por vez;\n",
    "[ ] Um funcionário pode atender um cliente que não possua um nome cadastrado;\n",
    "[X] Um cliente pode estar cadastrado e não ter nenhum atendimento;\n",
    "[X] Um cliente pode ser atendido por vários funcionários, sendo um funcionário por vez."
   ]
  }
 ],
 "metadata": {
  "kernelspec": {
   "display_name": "Python 3 (ipykernel)",
   "language": "python",
   "name": "python3"
  },
  "language_info": {
   "codemirror_mode": {
    "name": "ipython",
    "version": 3
   },
   "file_extension": ".py",
   "mimetype": "text/x-python",
   "name": "python",
   "nbconvert_exporter": "python",
   "pygments_lexer": "ipython3",
   "version": "3.12.3"
  }
 },
 "nbformat": 4,
 "nbformat_minor": 5
}
